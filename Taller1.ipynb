{
 "cells": [
  {
   "cell_type": "markdown",
   "metadata": {},
   "source": [
    "TALLER 1 INTRODUCCIÓN A LA TEORÍA DE LA COMPUTACIÓN \n"
   ]
  },
  {
   "cell_type": "markdown",
   "metadata": {},
   "source": [
    "NICOLAS RICARDO ENCISO"
   ]
  },
  {
   "cell_type": "markdown",
   "metadata": {},
   "source": [
    "1.Considere el problema de determinar si un código corresponde a un ISBN de 13 dígitos.\n",
    "Construya un autómata finito determinístico para identificar si un código es válido o no.\n",
    "Especifique formalmente el autómata, dibuje el diagrama y la tabla de transiciones.\n",
    "Implemente el autómata correspondiente utilizado una clase autómata.\n"
   ]
  },
  {
   "cell_type": "markdown",
   "metadata": {},
   "source": [
    "L = {w | w tiene 5 secciones separadas por un guión \"-\", tal que la primera sección es un 978 o 979, la segunda sección son dos dígitos cualquiera, una tercera sección de 5 dígitos cualquiera, cuarta sección con dos dígitos cualquiera, y una última sección con un sólo dígito cualquiera, w debe tener de longitud 13 dígitos sin contar los guiones}"
   ]
  },
  {
   "cell_type": "markdown",
   "metadata": {},
   "source": [
    "Se define entonces el autómata que acepta las cadenas w correspondientes a un código ISBN de 13 dígitos así:\n",
    "\n",
    "A = (Q, Σ, δ, q0, F)\n",
    "\n",
    "Q = (q0,q1,q2,q3,q4,q5,q6,q7,q8,q9,q10,q11,q12,q13,q14,q15,q16,q17,q18)\n",
    "\n",
    "Σ = (-,0,1,2,3,4,5,6,7,8,9)\n",
    "\n",
    "F = (q18)\n",
    "\n"
   ]
  },
  {
   "cell_type": "markdown",
   "metadata": {},
   "source": [
    "Ahora, la tabla de transiciones quedaría de la siguiente manera:\n",
    "\n",
    "            0  |1   |2   |3   |4   |5   |6   |7   |8   |9   |-\n",
    "          _____________________________________________________  \n",
    "      q0  | ø  |ø   |ø   |ø   |ø   |ø   |ø   |ø   |ø   |q1  |ø\n",
    "      q1  | ø  |ø   |ø   |ø   |ø   |ø   |ø   |q2  |ø   |ø   |ø\n",
    "      q2  | ø  |ø   |ø   |ø   |ø   |ø   |ø   |ø   |q3  |q4  |ø\n",
    "      q3  | ø  |ø   |ø   |ø   |ø   |ø   |ø   |ø   |ø   |ø   |q5\n",
    "      q4  | ø  |ø   |ø   |ø   |ø   |ø   |ø   |ø   |ø   |ø   |q5\n",
    "      q5  | q6 |q6  |q6  |q6  |q6  |q6  |q6  |q6  |q6  |q6  |ø\n",
    "      q6  | q7 |q7  |q7  |q7  |q7  |q7  |q7  |q7  |q7  |q7  |ø\n",
    "      q7  | q8 |q8  |q8  |q8  |q8  |q8  |q8  |q8  |q8  |q8  |ø\n",
    "      q8  | q9 |q9  |q9  |q9  |q9  |q9  |q9  |q9  |q9  |q9  |ø\n",
    "      q9  | q10|q10 |q10 |q10 |q10 |q10 |q10 |q10 |q10 |q10 |ø\n",
    "      q10 | q11|q11 |q11 |q11 |q11 |q11 |q11 |q11 |q11 |q11 |ø\n",
    "      q11 | q12|q12 |q12 |q12 |q12 |q12 |q12 |q12 |q12 |q12 |ø\n",
    "      q12 | q13|q13 |q13 |q13 |q13 |q13 |q13 |q13 |q13 |q13 |ø\n",
    "      q13 | q14|q14 |q14 |q14 |q14 |q14 |q14 |q14 |q14 |q14 |ø\n",
    "      q14 | q15|q15 |q15 |q15 |q15 |q15 |q15 |q15 |q15 |q15 |ø\n",
    "      q15 | q16|q16 |q16 |q16 |q16 |q16 |q16 |q16 |q16 |q16 |ø\n",
    "      q16 | q17|q17 |q17 |q17 |q17 |q17 |q17 |q17 |q17 |q17 |ø\n",
    "      q17 | q18|q18 |q18 |q18 |q18 |q18 |q18 |q18 |q18 |q18 |ø\n",
    "      q18 | ø  |ø   |ø   |ø   |ø   |ø   |ø   |ø   |ø   |ø   |ø\n",
    "      --------------------------------------------------------"
   ]
  },
  {
   "cell_type": "markdown",
   "metadata": {},
   "source": [
    "<img src=\"p1.PNG\">"
   ]
  },
  {
   "cell_type": "markdown",
   "metadata": {},
   "source": [
    "2.Construya un autómata finito determinístico sobre el alfabeto {a,b} la cual acepte todas\n",
    "las cadenas que contengan NO más de dos ocurrencias consecutivas de la misma\n",
    "entrada (Por ejemplo, abba es aceptada y abbba no es aceptada). Especifique\n",
    "formalmente el autómata, dibuje el diagrama y la tabla de transiciones.\n",
    "\n",
    "A = (Q, Σ, δ, q0, F)\n",
    "\n",
    "Q = (q0,q1,q2,q3,q4)\n",
    "\n",
    "Σ = (a,b)\n",
    "\n",
    "F = (q1,q2,q3,q4)"
   ]
  },
  {
   "cell_type": "markdown",
   "metadata": {},
   "source": [
    "Tabla de transiciones:\n",
    "<img src=\"tabla2.PNG\">\n",
    "\n"
   ]
  },
  {
   "cell_type": "markdown",
   "metadata": {},
   "source": [
    "<img src=\"p2.PNG\">"
   ]
  },
  {
   "cell_type": "markdown",
   "metadata": {},
   "source": [
    "3.Dado un autómata finito determinístico M, construya un nuevo autómata finito\n",
    "determinístico M' con el mismo alfabeto de entrada y con la propiedad de que para\n",
    "todos los , u pertenecen a Σ*  es aceptado por M' si y solo si NO es aceptado por M.\n",
    "\n",
    "Definimos que M = (Q, Σ, δ, q0, F) y que M' = (Q', Σ, δ, q0', F').\n",
    "\n",
    "Como M' acepta un u pertenecen a Σ* si y solo si u No es aceptado por M, entonces significa que F', será el grupo de estados de aceptación tal que F' = Q - F, es decir que los estados de aceptación de F' serán los estados que no son de aceptación de M."
   ]
  },
  {
   "cell_type": "markdown",
   "metadata": {},
   "source": [
    "4.Dados dos autómatas finitos determinísticos M1 y M2 con el mismo alfabeto de\n",
    "entrada, construya un tercer autómata finito determinísticos (M) con la propiedad que u pertenecen a Σ*\n",
    "es aceptado por M si y solo si es aceptado por ambos M1 y M2.\n",
    "\n",
    "Definimos que M1 = (Q1, Σ, δ1, q01, F1)  y que M2 = (Q2, Σ, δ2, q02, F2), si M es un autómata que que acepta u pertenecen a Σ* si u es acpetado por M1 y M2, entonces M se define como M = (Q, Σ, δ, q0, F) de manera que el conjunto de estados de aceptación F será definido como F = F1 U F2, sería la unión de los estados de aceptación de M1 y M2, y así se aceptarían las cadenas de abos."
   ]
  },
  {
   "cell_type": "markdown",
   "metadata": {},
   "source": [
    "5.Construya un autómata finito no determinístico que permita aceptar palabras sobre el\n",
    "alfabeto {1,2,3} tal que el último símbolo aparezca al menos dos veces, pero sin la\n",
    "intervención de un símbolo superior en la mitad. Por ejemplo, 11, 2112, 123113,\n",
    "3212113\n",
    "\n",
    "A = (Q, Σ, δ, q0, F)\n",
    "\n",
    "Q = (q0,q1,q2,q3,q4,q5,q6)\n",
    "\n",
    "Σ = (1,2,3)\n",
    "\n",
    "F = (q4,q5,q6)\n",
    "\n"
   ]
  },
  {
   "cell_type": "markdown",
   "metadata": {},
   "source": [
    "Tabla de transiciones:\n",
    "<img src=\"tabla5.PNG\">\n"
   ]
  },
  {
   "cell_type": "markdown",
   "metadata": {},
   "source": [
    "<img src=\"p5.PNG\">"
   ]
  },
  {
   "cell_type": "markdown",
   "metadata": {},
   "source": [
    "6.Escriba un autómata que reconozca todos las cadenas sobre {0,1} que representan\n",
    "números binarios que son divisibles por . Por ejemplo, 0, 101, 1010, 1111, 11001.\n",
    "\n",
    "A = (Q, Σ, δ, q0, F)\n",
    "\n",
    "Q = (q0,q1,q2,q3,q4)\n",
    "\n",
    "Σ = (0,1)\n",
    "\n",
    "F = (q0)"
   ]
  },
  {
   "cell_type": "markdown",
   "metadata": {},
   "source": [
    "Tabla de transiciones:\n",
    "<img src=\"tabla6.PNG\">\n"
   ]
  },
  {
   "cell_type": "markdown",
   "metadata": {},
   "source": [
    "<img src=\"p6.PNG\">"
   ]
  },
  {
   "cell_type": "markdown",
   "metadata": {},
   "source": [
    "9.Respecto al uso de autómatas (máquinas de estado finito) para el diseño de personajes\n",
    "de video juegos:\n",
    "\n",
    "a.¿Cúales con las ventajas del uso de la abstracción de maquinas de estado\n",
    "frente a una implementación utlizando condicionales?\n",
    "\n",
    "R: Las máquinas de estado permiten tener una aproximación más gráfica y entendible de las situaciones, además de ser mucho más sencillas de hacer, ya que con condicionales se tienen que tener en cuenta los condicionales anidados que se tengan, haciendo más compleja la tarea de modelarlo, probarlo y entenderlo.\n",
    "\n",
    "b.¿Cómo se utilizan los autómatas en el diseño de personajes para video\n",
    "juegos?\n",
    "\n",
    "R: Se usan en la modelación de las interacciones que tenga éste con el medio, con otros personajes o items, usando algo conocido como \"triggers\" o disparadores, que lo que hacen es cumplir la función de la lectura de los símbolos en un autómata común, actúan de condicionantes que se activan cuando una condición es aprobada, llevando al personaje a que tenga una animación acorde al trigger que lo activó. Por ejemplo, se podría tener un trigger que se active cuando un personaje es atacado, se pasa de un estado a otro cuando es atcado, la condición que lo dispara es el estar bajo ataque, y lo que hace es que pasa de un estaod inicial de reposo,, a un estado en el que se activa una animación acorde a la situación, como por ejemplo el de mostrar heridas, bajar el nievel de salud, o que suene una alarma sonora que avise al jugador de su situación.\n",
    "\n",
    "\n",
    "\n",
    "\n",
    "\n"
   ]
  },
  {
   "cell_type": "markdown",
   "metadata": {},
   "source": [
    "Seleccione su personaje de video juegos parecido, especifique formalmente su autómata, encuentre el lenguaje aceptado por el automata, pruebe que el\n",
    "lenguaje propuesto efectivamente es aceptado por el autómata. Seleccione un personaje con al menos cuatro estados y 4 acciones.\n",
    "\n",
    "Juego de producción propia básico en Unity, donde se tiene como mapa el campus de la UN, y se debe escapar de una horda de zombies.\n",
    "\n",
    "A = (Q, Σ, δ, q0, F)\n",
    "\n",
    "Q = (q0,q1,q2,q3,q4,q5,q6)\n",
    "\n",
    "F = (q0,q3)\n",
    "\n",
    "q0: Entrada juego\n",
    "q1: idle, estado en el que el personaje no hace nada\n",
    "q2: Muerte\n",
    "q3: Desaparecer\n",
    "q4: Atacar\n",
    "q5: Moverse\n",
    "q6: Entrar edificio\n",
    "\n",
    "Σ = (Idle, e1,e2,e3,e4,e5,e6,e7 )\n",
    "\n",
    "e1: Inicio de ejecución del juego\n",
    "e2: Ser atacado\n",
    "e3: Nivel de vida en 0\n",
    "e4: Tecla Ataque\n",
    "e5: Joystick movimiento\n",
    "e6: Desaparecido\n",
    "e7: Reaparecer\n",
    "\n",
    "\n",
    "\n"
   ]
  },
  {
   "cell_type": "markdown",
   "metadata": {},
   "source": [
    "Tabla transiciones:\n",
    "<img src=\"tabla9.PNG\">"
   ]
  },
  {
   "cell_type": "markdown",
   "metadata": {},
   "source": [
    "Vista juego:\n",
    "\n",
    "<img src=\"campus.jpg\">\n"
   ]
  }
 ],
 "metadata": {
  "celltoolbar": "Raw Cell Format",
  "kernelspec": {
   "display_name": "Python 2",
   "language": "python",
   "name": "python2"
  },
  "language_info": {
   "codemirror_mode": {
    "name": "ipython",
    "version": 2
   },
   "file_extension": ".py",
   "mimetype": "text/x-python",
   "name": "python",
   "nbconvert_exporter": "python",
   "pygments_lexer": "ipython2",
   "version": "2.7.13"
  }
 },
 "nbformat": 4,
 "nbformat_minor": 2
}
