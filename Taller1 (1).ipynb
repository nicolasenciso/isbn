{
 "cells": [
  {
   "cell_type": "markdown",
   "metadata": {},
   "source": [
    "TALLER 1 INTRODUCCIÓN A LA TEORÍA DE LA COMPUTACIÓN \n"
   ]
  },
  {
   "cell_type": "markdown",
   "metadata": {},
   "source": [
    "NICOLAS RICARDO ENCISO"
   ]
  },
  {
   "cell_type": "markdown",
   "metadata": {},
   "source": [
    "PUNTO 1 "
   ]
  },
  {
   "cell_type": "markdown",
   "metadata": {},
   "source": [
    "\n",
    "Considere el problema de determinar si un código corresponde a un ISBN de 13 dígitos.\n",
    "Construya un autómata finito determinístico para identificar si un código es válido o no.\n",
    "Especifique formalmente el autómata, dibuje el diagrama y la tabla de transiciones.\n",
    "Implemente el autómata correspondiente utilizado una clase autómata.\n"
   ]
  },
  {
   "cell_type": "markdown",
   "metadata": {},
   "source": [
    "L = {w | w tiene 5 secciones separadas por un guión \"-\", tal que la primera sección es un 978 o 979, la segunda sección son dos dígitos cualquiera, una tercera sección de 5 dígitos cualquiera, cuarta sección con dos dígitos cualquiera, y una última sección con un sólo dígito cualquiera, w debe tener de longitud 13 dígitos sin contar los guiones}"
   ]
  },
  {
   "cell_type": "markdown",
   "metadata": {},
   "source": [
    "Se define entonces el autómata que acepta las cadenas w correspondientes a un código ISBN de 13 dígitos así:\n",
    "\n",
    "A = (Q, Σ, δ, q0, F)\n",
    "\n",
    "Q = (q0,q1,q2,q3,q4,q5,q6,q7,q8,q9,q10,q11,q12,q13,q14,q15,q16,q17,q18)\n",
    "\n",
    "Σ = (-,0,1,2,3,4,5,6,7,8,9)\n",
    "\n",
    "F = (q18)\n",
    "\n"
   ]
  },
  {
   "cell_type": "markdown",
   "metadata": {},
   "source": [
    "Ahora, la tabla de transiciones quedaría de la siguiente manera:\n",
    "\n",
    "            0  |1   |2   |3   |4   |5   |6   |7   |8   |9   |-\n",
    "          _____________________________________________________  \n",
    "      q0  | ø  |ø   |ø   |ø   |ø   |ø   |ø   |ø   |ø   |q1  |ø\n",
    "      q1  | ø  |ø   |ø   |ø   |ø   |ø   |ø   |q2  |ø   |ø   |ø\n",
    "      q2  | ø  |ø   |ø   |ø   |ø   |ø   |ø   |ø   |q3  |q4  |ø\n",
    "      q3  | ø  |ø   |ø   |ø   |ø   |ø   |ø   |ø   |ø   |ø   |q5\n",
    "      q4  | ø  |ø   |ø   |ø   |ø   |ø   |ø   |ø   |ø   |ø   |q5\n",
    "      q5  | q6 |q6  |q6  |q6  |q6  |q6  |q6  |q6  |q6  |q6  |ø\n",
    "      q6  | q7 |q7  |q7  |q7  |q7  |q7  |q7  |q7  |q7  |q7  |ø\n",
    "      q7  | q8 |q8  |q8  |q8  |q8  |q8  |q8  |q8  |q8  |q8  |ø\n",
    "      q8  | q9 |q9  |q9  |q9  |q9  |q9  |q9  |q9  |q9  |q9  |ø\n",
    "      q9  | q10|q10 |q10 |q10 |q10 |q10 |q10 |q10 |q10 |q10 |ø\n",
    "      q10 | q11|q11 |q11 |q11 |q11 |q11 |q11 |q11 |q11 |q11 |ø\n",
    "      q11 | q12|q12 |q12 |q12 |q12 |q12 |q12 |q12 |q12 |q12 |ø\n",
    "      q12 | q13|q13 |q13 |q13 |q13 |q13 |q13 |q13 |q13 |q13 |ø\n",
    "      q13 | q14|q14 |q14 |q14 |q14 |q14 |q14 |q14 |q14 |q14 |ø\n",
    "      q14 | q15|q15 |q15 |q15 |q15 |q15 |q15 |q15 |q15 |q15 |ø\n",
    "      q15 | q16|q16 |q16 |q16 |q16 |q16 |q16 |q16 |q16 |q16 |ø\n",
    "      q16 | q17|q17 |q17 |q17 |q17 |q17 |q17 |q17 |q17 |q17 |ø\n",
    "      q17 | q18|q18 |q18 |q18 |q18 |q18 |q18 |q18 |q18 |q18 |ø\n",
    "      q18 | ø  |ø   |ø   |ø   |ø   |ø   |ø   |ø   |ø   |ø   |ø\n",
    "      --------------------------------------------------------"
   ]
  },
  {
   "cell_type": "markdown",
   "metadata": {},
   "source": [
    "<img src=\"p1.PNG\">"
   ]
  },
  {
   "cell_type": "code",
   "execution_count": null,
   "metadata": {
    "collapsed": true
   },
   "outputs": [],
   "source": [
    "'''\n",
    "Created on 14/03/2017\n",
    "\n",
    "@author: nicolas\n",
    "'''\n",
    "\"\"\"ISBN COMPUESTO DE 5 PARTES: elementoPrefijo, grupoRegistro, elementoTitular, Publicacion y checkDigit\"\"\"\n",
    "class ISBN:\n",
    "    def __init__(self):\n",
    "        self.validation = []\n",
    "\n",
    "    def elementoPrefijo(self,cadena):\n",
    "        k = []\n",
    "        if(cadena[0] == \"9\"):\n",
    "            print \"estado q0 aceptado, paso al q1\"\n",
    "            k.append(True)\n",
    "        else:\n",
    "            k.append(False)\n",
    "        if cadena[1] == \"7\":\n",
    "            print \"estado q1 aceptado, paso al q2\"\n",
    "            k.append(True)\n",
    "        else:\n",
    "            k.append(False)\n",
    "        if ((cadena[2]) == \"9\"):\n",
    "            print \"estado q2 aceptado, paso al q4\"\n",
    "            k.append(True)\n",
    "        else:\n",
    "            k.append(False)\n",
    "        if cadena[2] == \"8\":\n",
    "            print \"estado q2 aceptado, paso al q3\"\n",
    "            \n",
    "        if False not in k:\n",
    "            self.validation.append(True)\n",
    "            print \"elementoPrefijo VALIDO\"\n",
    "        else:\n",
    "            print \"elementoPrefijo NO VALIDO\"\n",
    "            self.validation.append(False)\n",
    "        \n",
    "    def grupoRegistro(self,cadena):\n",
    "        if(cadena[3] == \"-\"):\n",
    "            if cadena[2] == \"8\":\n",
    "                print \"estado q3 aceptado, paso al q5\"\n",
    "            if cadena[2] == \"9\":\n",
    "                print \"estado q4 aceptado, paso al q5\"\n",
    "            \n",
    "            values = []\n",
    "            for i in range(2):\n",
    "                try:\n",
    "                    int(cadena[i+4])\n",
    "                    flag = True\n",
    "                    values.append(flag)\n",
    "                    print \"estado q\"+str(i+5)+\"  aceptado, paso al q\"+str(i+6)\n",
    "                except ValueError:\n",
    "                    flag = False\n",
    "                    values.append(flag)\n",
    "            if False in values:\n",
    "                print \"grupoRegistro NO VALIDO\"\n",
    "                self.validation.append(False)\n",
    "            else:\n",
    "                print \"grupoRegistro VALIDO\"\n",
    "                self.validation.append(True)\n",
    "                print \"estado q7 aceptado, paso al q8\"\n",
    "            \n",
    "            \n",
    "        else:\n",
    "            \n",
    "            print \"grupoRegistro NO VALIDO\"\n",
    "            self.validation.append(False)\n",
    "     \n",
    "    def elementoTitular(self,cadena):\n",
    "        if(cadena[6] == '-'):\n",
    "            print \"estado q8 aceptado, paso al q9\"\n",
    "            values = []\n",
    "            for i in range(5):\n",
    "                try:\n",
    "                    int(cadena[i+7])\n",
    "                    flag = True\n",
    "                    values.append(flag)\n",
    "                    print \"estado q\"+str(i+9)+\"  aceptado, paso al q\"+str(i+10)\n",
    "                except ValueError:\n",
    "                    flag = False\n",
    "                    values.append(flag)\n",
    "                    \n",
    "            if False in values:\n",
    "                print \"elementoTitular NO VALIDO\"\n",
    "                self.validation.append(False)\n",
    "            else:\n",
    "                print \"elementoTitular VALIDO\"\n",
    "                self.validation.append(True)\n",
    "                \n",
    "        else:\n",
    "            print \"elementoTitular NO VALIDO\"\n",
    "            self.validation.append(False)\n",
    "            \n",
    "            \n",
    "    def publicacion(self,cadena):\n",
    "        if(cadena[12] == '-'):\n",
    "            print \"estado q14 aceptado, paso al q15\"\n",
    "            values = []\n",
    "            for i in range(2):\n",
    "                try:\n",
    "                    int(cadena[i+13])\n",
    "                    flag = True\n",
    "                    values.append(flag)\n",
    "                    print \"estado q\"+str(i+15)+\"  aceptado, paso al q\"+str(i+16)\n",
    "                except ValueError:\n",
    "                    flag = False\n",
    "                    values.append(flag)\n",
    "            if False in values:\n",
    "                print \"Publicacion NO VALIDO\"\n",
    "                self.validation.append(False)\n",
    "            else:\n",
    "                print \"Publicacion VALIDO\"\n",
    "                self.validation.append(True)\n",
    "            \n",
    "        else:\n",
    "            print \"Publicacion NO VALIDO\"\n",
    "            self.validation.append(False)\n",
    "                \n",
    "    def checkDigit(self,cadena):\n",
    "        if(cadena[15] == '-'):\n",
    "            print \"estado q17 aceptado, paso al q18\"\n",
    "            try:\n",
    "                int(cadena[16])\n",
    "                flag = True\n",
    "                print \"estado q18 aceptado\"\n",
    "            except ValueError:\n",
    "                flag = False\n",
    "            if flag == False:\n",
    "                print \"checkDigit NO VALIDO\"\n",
    "                self.validation.append(False)\n",
    "            else:\n",
    "                print \"checkDigit VALIDO\"\n",
    "                self.validation.append(True)\n",
    "            \n",
    "        else:\n",
    "            print \"checkDigit NO VALIDO\"\n",
    "                \n",
    "    \n",
    "    def validationAll(self,validation):\n",
    "        if False in validation:\n",
    "            print \"<<<<<<<<CODIGO ISBN NO VALIDO, NO ACEPTADO>>>>>>>>>>>\"\n",
    "        else:\n",
    "            print \"<<<<<<<<<<CODIGO ISBN VALIDO ACEPTADO>>>>>>>>>>>>\"\n",
    "                \n",
    "                \n",
    "\"\"\"PRUEBA CON UN EJEMPLO  CORRECTO \"\"\"        \n",
    "code = ISBN()\n",
    "codeISBN= \"979-97-45852-20-2\"\n",
    "code.elementoPrefijo(codeISBN)\n",
    "code.grupoRegistro(codeISBN)\n",
    "code.elementoTitular(codeISBN)\n",
    "code.publicacion(codeISBN)\n",
    "code.checkDigit(codeISBN)\n",
    "code.validationAll(code.validation)"
   ]
  },
  {
   "cell_type": "markdown",
   "metadata": {},
   "source": [
    "PUNTO 2."
   ]
  },
  {
   "cell_type": "markdown",
   "metadata": {},
   "source": [
    "Construya un autómata finito determinístico sobre el alfabeto {a,b} la cual acepte todas\n",
    "las cadenas que contengan NO más de dos ocurrencias consecutivas de la misma\n",
    "entrada (Por ejemplo, abba es aceptada y abbba no es aceptada). Especifique\n",
    "formalmente el autómata, dibuje el diagrama y la tabla de transiciones.\n",
    "\n",
    "A = (Q, Σ, δ, q0, F)\n",
    "\n",
    "Q = (q0,q1,q2,q3,q4)\n",
    "\n",
    "Σ = (a,b)\n",
    "\n",
    "F = (q1,q2,q3,q4)"
   ]
  },
  {
   "cell_type": "markdown",
   "metadata": {},
   "source": [
    "Tabla de transiciones:\n",
    "<img src=\"tabla2.PNG\">\n",
    "\n"
   ]
  },
  {
   "cell_type": "markdown",
   "metadata": {},
   "source": [
    "<img src=\"p2.PNG\">"
   ]
  },
  {
   "cell_type": "markdown",
   "metadata": {},
   "source": [
    "PUNTO 3."
   ]
  },
  {
   "cell_type": "markdown",
   "metadata": {},
   "source": [
    "Dado un autómata finito determinístico M, construya un nuevo autómata finito\n",
    "determinístico M' con el mismo alfabeto de entrada y con la propiedad de que para\n",
    "todos los , u pertenecen a Σ*  es aceptado por M' si y solo si NO es aceptado por M.\n",
    "\n",
    "Definimos que M = (Q, Σ, δ, q0, F)\n",
    "\n",
    "Se puede afirmar, que para cualquier lenguaje L, al estar siendo validado por los estados de M, si se encuentra en un estado que no es de aceptación, ese lenguaje en ese estado no es aceptado.\n",
    "\n",
    "Siguiendo esa idea, entonces si M' es el DFA que acepta los lenguajes que no acepta M, se puede afirmar que M' tendrá como estados de aceptación los estados que no son de aceptación en M, definiendo entonces que el conjunto de los estados de aceptación de M', F' es :\n",
    "\n",
    "F' = Q - F\n",
    "\n",
    "Los estados de aceptación de F' en M' serán los estados que no son de aceptacion en M."
   ]
  },
  {
   "cell_type": "markdown",
   "metadata": {},
   "source": [
    "PUNTO 4."
   ]
  },
  {
   "cell_type": "markdown",
   "metadata": {},
   "source": [
    "Dados dos autómatas finitos determinísticos M1 y M2 con el mismo alfabeto de\n",
    "entrada, construya un tercer autómata finito determinísticos (M) con la propiedad que u pertenecen a Σ*\n",
    "es aceptado por M si y solo si es aceptado por ambos M1 y M2.\n",
    "\n",
    "Definimos que M1 = (Q1, Σ, δ1, q01, F1)  y que M2 = (Q2, Σ, δ2, q02, F2), si M es un autómata que que acepta u pertenecen a Σ* si u es aceptado por M1 y M2, entonces M se define como M = (Q, Σ, δ, q0, F) de manera que el conjunto de estados de aceptación F será definido como F = F1 ∩ F2, sería la intersección de los estados de aceptación de M1 y M2, y así se aceptarían las cadenas de ambos."
   ]
  },
  {
   "cell_type": "markdown",
   "metadata": {},
   "source": [
    "PUNTO 5."
   ]
  },
  {
   "cell_type": "markdown",
   "metadata": {},
   "source": [
    "Construya un autómata finito no determinístico que permita aceptar palabras sobre el\n",
    "alfabeto {1,2,3} tal que el último símbolo aparezca al menos dos veces, pero sin la\n",
    "intervención de un símbolo superior en la mitad. Por ejemplo, 11, 2112, 123113,\n",
    "3212113\n",
    "\n",
    "A = (Q, Σ, δ, q0, F)\n",
    "\n",
    "Q = (q0,q1,q2,q3,q4,q5,q6)\n",
    "\n",
    "Σ = (1,2,3)\n",
    "\n",
    "F = (q4,q5,q6)\n",
    "\n"
   ]
  },
  {
   "cell_type": "markdown",
   "metadata": {},
   "source": [
    "Tabla de transiciones:\n",
    "<img src=\"tabla5.PNG\">\n"
   ]
  },
  {
   "cell_type": "markdown",
   "metadata": {},
   "source": [
    "<img src=\"p5.PNG\">"
   ]
  },
  {
   "cell_type": "markdown",
   "metadata": {},
   "source": [
    "PUNTO 6."
   ]
  },
  {
   "cell_type": "markdown",
   "metadata": {},
   "source": [
    "Escriba un autómata que reconozca todos las cadenas sobre {0,1} que representan\n",
    "números binarios que son divisibles por 5. Por ejemplo, 0, 101, 1010, 1111, 11001.\n",
    "\n",
    "A = (Q, Σ, δ, q0, F)\n",
    "\n",
    "Q = (q0,q1,q2,q3,q4)\n",
    "\n",
    "Σ = (0,1)\n",
    "\n",
    "F = (q0)"
   ]
  },
  {
   "cell_type": "markdown",
   "metadata": {},
   "source": [
    "Tabla de transiciones:\n",
    "<img src=\"tabla6.PNG\">\n",
    "<img src=\"p6.PNG\">"
   ]
  },
  {
   "cell_type": "markdown",
   "metadata": {},
   "source": [
    "PUNTO 7."
   ]
  },
  {
   "cell_type": "markdown",
   "metadata": {},
   "source": [
    "Un sistema de transiciones es una generalización de los autómata finito no\n",
    "determinísticos con  ε-transiciones,\n",
    "en la cual se admiten transiciones adicionales con\n",
    "palabras de longitud mayor o igual a 1. De una definición formal de los sistemas de\n",
    "transiciones, y pruebe que los lenguajes aceptados por un sistema de transiciones son\n",
    "aceptados por un DFA.\n",
    "\n",
    "\n",
    "Se demostrará entonces que si L es un lenguaje aceptado por un NFA- ε si y solo si L es aceptado por algún DFA\n",
    "\n",
    "DEMOSTRACIÓN:\n",
    "\n",
    "a. Parte si: Suponemos que L = L(D) para algún DFA. Transformamos D en una NFA- ε E añadiendo transiciones δ(q, ε) =  ø para todos los estados q de D. También se tiene que convertir las transiciones de D para los símbolos de entrada, como por ejemplo δD(q, a) = p en una transicion del DFA al conjunto que sólo contiene p, es decir, δE(q, a) ={p}. Por tanto, las transiciones de E y D son las mismas, pero E establece explícitamente que no existe ninguna transicion saliente de cualquier estado para ε.\n",
    "\n",
    "b.Parte sólo si: Sea E = (QE, Σ, δE, q0, FE), un NFA-ε. Se aplica la construcción por subconjuntos modificada descrita anteriormente para generar el DFA D = (QD, Σ, δD, q0, FD)\n",
    "\n",
    "Se debe demostrar que L(D) = L(E), y se hace demostrando que las funciones de transicion extendidas de E y D son iguales. Formalmente, se demuestra por induccion que δhatE(q0,w) = δhatD(qD, w), sobre la longitud w.\n"
   ]
  },
  {
   "cell_type": "markdown",
   "metadata": {},
   "source": [
    "BASE:"
   ]
  },
  {
   "cell_type": "markdown",
   "metadata": {},
   "source": [
    "Si |w| = 0, entonces w = ε. Sabemos que δhatE(q0,ε) = CLAUSURAε(q0). Tambien sabemos que qD = CLAUSURAε(q0), porque como es como se ha definido el estado inicial de D. Por último, para un DFA, sabemos que δhat(p,ε) = p, para cualquier estado p, por lo que, en particular δhatD(qD, ε) = CLAUSURAε(q0). Luego hemos demostrado que δhatE(q0,ε) = δhatD(qD, ε)"
   ]
  },
  {
   "cell_type": "markdown",
   "metadata": {},
   "source": [
    "PASO INDUCTIVO:"
   ]
  },
  {
   "cell_type": "markdown",
   "metadata": {},
   "source": [
    "Supongamos que w = xa, donde a es el último símbolo de w, y suponga que la proposición se comple para x. Es decir δhatE(q0,x) = δhatD(qD, x). Sean estos dos conjuntos de estados {p1,p2,...,pk}. Aplicando la definicion  de δhat para los \n",
    "NFA- ε, calculamos δhatE(q0,w) como sigue:\n",
    "\n",
    "1).Sea {r1,r2,...,rm} igual a las uniones desde i = 1 hasta k de δE(Pi,w)\n",
    "2).Luego δhatE(q0,w) igual a las uniones desde j=1 hasta m de CLAUSURAε(rj)\n",
    "\n",
    "Si examinamos la construccion  del DFA D en la constrtuccion de subconjuntos anterior, vemos que δD({PI,P2,...Pk},a) se construye aplicando los dos mismos pasos 1) y 2) anteriores. Por tanto δhatD(qD, w), que es δD({P1,P2,...Pk},a), es el mismo conjunto que δhatE(q0,w). Luego se ha demostrado que δhatE(q0,w) = δhatD(qD, w), y el paso de induccion queda completado.\n"
   ]
  },
  {
   "cell_type": "markdown",
   "metadata": {},
   "source": [
    "\n"
   ]
  },
  {
   "cell_type": "markdown",
   "metadata": {},
   "source": []
  },
  {
   "cell_type": "markdown",
   "metadata": {},
   "source": [
    "PUNTO 8 "
   ]
  },
  {
   "cell_type": "markdown",
   "metadata": {},
   "source": [
    "Pruebe o desapruebe la siguiente afirmación: El siguiente autómata acepta el lenguaje L = {w | w = a^(i) b^(j) o w = a^(i) c^(j), i>=1, j>=1}\n",
    "\n",
    "<img src=\"pop.PNG\">\n",
    "\n",
    "\n"
   ]
  },
  {
   "cell_type": "markdown",
   "metadata": {},
   "source": [
    "INTRODUCCION:"
   ]
  },
  {
   "cell_type": "markdown",
   "metadata": {},
   "source": [
    "Dado a que se tiene definido el lenguaje L, como una disyunción lógica de dos proposiciones, el lenguaje L es acpetado por el autómata si por lo menos, acepta alguna de las dos proposiciones que están definidad con el conector lógico.\n",
    "\n",
    "\n"
   ]
  },
  {
   "cell_type": "markdown",
   "metadata": {},
   "source": [
    "Aclarada  la forma en la que está definido el lenguaje L, se puede entonces afirmar de manera fácil, que la proposicion w = a^(i) c^(j), i>=1, j>=1, no es aceptada por el autómata, debido a que el único estado de aceptación (3), tiene como última opcion de ser el último símbolo el símbolo \"a\", o el símbolo \"b\", pero no el símbolo \"c\", no hay forma de validar un \"c\" y llevarlo hasta el estado de aceptación (3), por ésta razón, el lenguaje de  w = a^(i) c^(j) NO es aceptado por el autómata."
   ]
  },
  {
   "cell_type": "markdown",
   "metadata": {},
   "source": [
    "Como se dijo en la introducción del punto, el que no acepte el autómata  las cadenas que terminan en \"c\", no hace que el lenguaje L no sea aceptado por el autómata, ya que, la disyunción lógica hace que el lenguaje L SI sea aceptado por el autómata, cuando las cadenas definidas como w = a^(i) b^(j), i>=1, j>=1 efectivamente son aceptadas, lo que hace a la disyunción verdadera.\n"
   ]
  },
  {
   "cell_type": "markdown",
   "metadata": {},
   "source": [
    "Se procede entonces, a demostrar que w = a^(i) b^(j), i>=1, j>=1 es aceptado por el autómata, y dado a que el lenguaje L es definido como una disyunción lógica de dos proposiciones, cuando una es verdadera, L es entonces aceptado. La demostración entonces de que w = a^(i) b^(j) es la siguiente:"
   ]
  },
  {
   "cell_type": "markdown",
   "metadata": {},
   "source": [
    "BASE:"
   ]
  },
  {
   "cell_type": "markdown",
   "metadata": {},
   "source": [
    "Sea i = 1, y j = 1, definiendo la cadena w como w = a^(i) b^(j), con el autómata definido como: "
   ]
  },
  {
   "cell_type": "markdown",
   "metadata": {},
   "source": [
    "A = (Q, Σ, δ, q0, F)\n"
   ]
  },
  {
   "cell_type": "markdown",
   "metadata": {},
   "source": [
    "Q = (1, 2, 3, 4, 5, 6)"
   ]
  },
  {
   "cell_type": "markdown",
   "metadata": {},
   "source": [
    "Σ = (a, b, c)"
   ]
  },
  {
   "cell_type": "markdown",
   "metadata": {},
   "source": [
    "F = (3)"
   ]
  },
  {
   "cell_type": "markdown",
   "metadata": {},
   "source": [
    "w = a^(1) b^(1)   =   ab"
   ]
  },
  {
   "cell_type": "markdown",
   "metadata": {},
   "source": [
    "Su tabla de transiciones es:"
   ]
  },
  {
   "cell_type": "markdown",
   "metadata": {},
   "source": [
    "<img src=\"8tabla.PNG\">"
   ]
  },
  {
   "cell_type": "markdown",
   "metadata": {},
   "source": [
    "Su función de transicion es:"
   ]
  },
  {
   "cell_type": "markdown",
   "metadata": {},
   "source": [
    "1. δhat(1,ε) = {1}\n",
    "2. δhat(1,a) = δ(1,a) = {1,2}\n",
    "3. δhat(1,ab) = δ(1,a) U δ(2,b) = {1,2} U  {3} = {1,2,3}\n",
    "\n",
    "Como 3 es un estado de aceptacion, ab es aceptado por el automata, con un i= 1 y j= 1."
   ]
  },
  {
   "cell_type": "markdown",
   "metadata": {},
   "source": [
    "PASO INDUCTIVO:"
   ]
  },
  {
   "cell_type": "markdown",
   "metadata": {},
   "source": [
    "Dado a que w = a^(i) b^(j), para i>= 1 y j>= 1, como se demostró en la base, para i = 1, j= 1, w es aceptado por el autómata, si se generaliza para cualquier i y cualquier j que cumpla con la condición de i >= 1 y j>= 1, cualquiera sea el valor de i y j, siempre será aceptada esa w por el autómata, dado a que en el estado (2) se tiene un arco de bucle, que inserta a w una cantidad  i  de \"a's\", por lo que se pueden insertar cuantas \"a's\" se quieran. Sucede igual con el arco bucle en el estado (3), donde se puede insertar j de  \"b's\", entonces se pueden insertar cuantas \"b's\" se quieran.\n",
    "Por esta razón, w será aceptado para cualquier i y cualquier j mientras cumpla que i>=1 y j>=1."
   ]
  },
  {
   "cell_type": "markdown",
   "metadata": {},
   "source": [
    "Se concluye entonces que w = a^(i) b^(j), para cualquier valor de i y j mientras cumplan  i>= 1 y j>= 1, será aceptada por el autómata. Como se cunple una de las proposiciones de la definición del lenguaje L, el cual es una disyunción lógica, se concluye que EL LENGUAJE L SI ES ACEPTADO POR EL AUTÓMATA."
   ]
  },
  {
   "cell_type": "markdown",
   "metadata": {},
   "source": [
    "PUNTO 9."
   ]
  },
  {
   "cell_type": "markdown",
   "metadata": {},
   "source": [
    "Respecto al uso de autómatas (máquinas de estado finito) para el diseño de personajes\n",
    "de video juegos:\n",
    "\n",
    "a.¿Cúales con las ventajas del uso de la abstracción de maquinas de estado\n",
    "frente a una implementación utlizando condicionales?\n",
    "\n",
    "R: Las máquinas de estado permiten tener una aproximación más gráfica y entendible de las situaciones, además de ser mucho más sencillas de hacer, ya que con condicionales se tienen que tener en cuenta los condicionales anidados que se tengan, haciendo más compleja la tarea de modelarlo, probarlo y entenderlo.\n",
    "\n",
    "b.¿Cómo se utilizan los autómatas en el diseño de personajes para video\n",
    "juegos?\n",
    "\n",
    "R: Se usan en la modelación de las interacciones que tenga éste con el medio, con otros personajes o items, usando algo conocido como \"triggers\" o disparadores, que lo que hacen es cumplir la función de la lectura de los símbolos en un autómata común, actúan de condicionantes que se activan cuando una condición es aprobada, llevando al personaje a que tenga una animación acorde al trigger que lo activó. Por ejemplo, se podría tener un trigger que se active cuando un personaje es atacado, se pasa de un estado a otro cuando es atcado, la condición que lo dispara es el estar bajo ataque, y lo que hace es que pasa de un estaod inicial de reposo,, a un estado en el que se activa una animación acorde a la situación, como por ejemplo el de mostrar heridas, bajar el nievel de salud, o que suene una alarma sonora que avise al jugador de su situación.\n",
    "\n",
    "\n",
    "\n",
    "\n",
    "\n"
   ]
  },
  {
   "cell_type": "markdown",
   "metadata": {},
   "source": [
    "Seleccione su personaje de video juegos parecido, especifique formalmente su autómata, encuentre el lenguaje aceptado por el automata, pruebe que el\n",
    "lenguaje propuesto efectivamente es aceptado por el autómata. Seleccione un personaje con al menos cuatro estados y 4 acciones.\n",
    "\n",
    "Juego de producción propia básico en Unity, donde se tiene como mapa el campus de la UN, y se debe escapar de una horda de zombies.\n",
    "\n",
    "A = (Q, Σ, δ, q0, F)\n",
    "\n",
    "Q = (q0,q1,q2,q3,q4,q5,q6)\n",
    "\n",
    "F = (q0,q3)\n",
    "\n",
    "q0: Entrada juego |     \n",
    "q1: idle, estado en el que el personaje no hace nada | \n",
    "q2: Muerte  | \n",
    "q3: Desaparecer  |\n",
    "q4: Atacar  |\n",
    "q5: Moverse  |\n",
    "q6: Entrar edificio  |\n",
    "\n",
    "Σ = (Idle, e1,e2,e3,e4,e5,e6,e7 )\n",
    "\n",
    "e1: Inicio de ejecución del juego |\n",
    "e2: Ser atacado |\n",
    "e3: Nivel de vida en 0 |\n",
    "e4: Tecla Ataque |\n",
    "e5: Joystick movimiento |\n",
    "e6: Desaparecido |\n",
    "e7: Reaparecer |\n",
    "\n",
    "\n",
    "\n"
   ]
  },
  {
   "cell_type": "markdown",
   "metadata": {},
   "source": [
    "Tabla transiciones:\n",
    "<img src=\"tabla9.PNG\">"
   ]
  },
  {
   "cell_type": "markdown",
   "metadata": {},
   "source": [
    "<img src=\"p9.PNG\">"
   ]
  },
  {
   "cell_type": "markdown",
   "metadata": {},
   "source": [
    "Vista juego:\n",
    "\n",
    "<img src=\"campus.jpg\">\n",
    "<img src=\"ataque.jpg\">\n"
   ]
  }
 ],
 "metadata": {
  "celltoolbar": "Raw Cell Format",
  "kernelspec": {
   "display_name": "Python 2",
   "language": "python",
   "name": "python2"
  },
  "language_info": {
   "codemirror_mode": {
    "name": "ipython",
    "version": 2
   },
   "file_extension": ".py",
   "mimetype": "text/x-python",
   "name": "python",
   "nbconvert_exporter": "python",
   "pygments_lexer": "ipython2",
   "version": "2.7.13"
  }
 },
 "nbformat": 4,
 "nbformat_minor": 2
}

